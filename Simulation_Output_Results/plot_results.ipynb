{
 "cells": [
  {
   "cell_type": "code",
   "execution_count": null,
   "metadata": {
    "pycharm": {
     "is_executing": true,
     "name": "#%%\n"
    }
   },
   "outputs": [],
   "source": [
    "from pathlib import Path\n",
    "import plot_utils as u"
   ]
  },
  {
   "cell_type": "code",
   "execution_count": null,
   "metadata": {},
   "outputs": [],
   "source": [
    "u.load_and_plot('Controller_Simulations/Zero/ZeroController-20220919144722', None, 1000, 4000, 3020, 3200)"
   ]
  },
  {
   "cell_type": "code",
   "execution_count": null,
   "metadata": {},
   "outputs": [],
   "source": [
    "u.load_and_plot('RESULTS-noSTN', None, 500, 3500, 3020, 3200)"
   ]
  },
  {
   "cell_type": "code",
   "execution_count": null,
   "metadata": {},
   "outputs": [],
   "source": [
    "u.load_and_plot('RESULTS-withSTN', None, 500, 3500, 3020, 3200)"
   ]
  },
  {
   "cell_type": "code",
   "execution_count": null,
   "metadata": {
    "pycharm": {
     "name": "#%%\n"
    }
   },
   "outputs": [],
   "source": [
    "plot_start_t = 9000\n",
    "plot_end_t = 12000\n",
    "steady_state_time = 6000\n",
    "sim_time = 18000.01"
   ]
  },
  {
   "cell_type": "code",
   "execution_count": null,
   "metadata": {},
   "outputs": [],
   "source": [
    "import matplotlib.pyplot as plt"
   ]
  },
  {
   "cell_type": "code",
   "execution_count": null,
   "metadata": {},
   "outputs": [],
   "source": [
    "u.plot_mse_dir('PI_grid_search_12')"
   ]
  },
  {
   "cell_type": "code",
   "execution_count": null,
   "metadata": {},
   "outputs": [],
   "source": [
    "from matplotlib import cm\n",
    "u.plot_fitness_pi_params('PI_grid_search_12', lam=3e-9, tail_length=6, three_d=False, cmap=cm.RdBu_r)"
   ]
  },
  {
   "cell_type": "code",
   "execution_count": null,
   "metadata": {},
   "outputs": [],
   "source": [
    "u.plot_mse_dir('Controller_Simulations/Zero')"
   ]
  },
  {
   "cell_type": "code",
   "execution_count": null,
   "metadata": {},
   "outputs": [],
   "source": [
    "parameter = 'amplitude'\n",
    "dirname = ['ZeroController-20220919144722',\n",
    "           'ZeroController-20220919144758']\n",
    "\n",
    "u.load_and_plot(['Controller_Simulations/Zero/' + d for d in dirname], parameter, steady_state_time, sim_time, plot_start_t, plot_end_t)"
   ]
  },
  {
   "cell_type": "code",
   "execution_count": null,
   "metadata": {},
   "outputs": [],
   "source": [
    "parameter = 'amplitude'\n",
    "dirname = ['Kp=0.230000, Ti=0.200000, Td=0.000000-20220919013755',\n",
    "           'Kp=0.230000, Ti=0.200000, Td=0.000000-20220919014120']\n",
    "\n",
    "u.load_and_plot(['Controller_Simulations/Amp/standard_PID_Controller/' + d for d in dirname], parameter, steady_state_time, sim_time, plot_start_t, plot_end_t)"
   ]
  },
  {
   "cell_type": "code",
   "execution_count": null,
   "metadata": {},
   "outputs": [],
   "source": [
    "plot_start_t = 9000\n",
    "plot_end_t = 12000\n",
    "steady_state_time = 6000\n",
    "sim_time = 14000.01"
   ]
  },
  {
   "cell_type": "code",
   "execution_count": null,
   "metadata": {},
   "outputs": [],
   "source": [
    "parameter = 'frequency'\n",
    "dirname =['Kp=19.300000, Ti=0.200000, Td=0.000000-20220830153118',\n",
    "          'Kp=19.300000, Ti=0.200000, Td=0.000000-20220830152231']\n",
    "u.load_and_plot(['Controller_Simulations/Freq/standard_PID_Controller/' + d for d in dirname], parameter, steady_state_time, sim_time, plot_start_t, plot_end_t)"
   ]
  }
 ],
 "metadata": {
  "kernelspec": {
   "display_name": "Python 3.9.5 ('venv': venv)",
   "language": "python",
   "name": "python3"
  },
  "language_info": {
   "codemirror_mode": {
    "name": "ipython",
    "version": 3
   },
   "file_extension": ".py",
   "mimetype": "text/x-python",
   "name": "python",
   "nbconvert_exporter": "python",
   "pygments_lexer": "ipython3",
   "version": "3.9.5"
  },
  "vscode": {
   "interpreter": {
    "hash": "450f40dd396b1913861f0149d03f0192471eb9c72b00438423b03f564776f6b9"
   }
  }
 },
 "nbformat": 4,
 "nbformat_minor": 2
}
