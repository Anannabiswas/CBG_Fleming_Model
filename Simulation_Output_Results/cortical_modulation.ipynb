{
 "cells": [
  {
   "cell_type": "code",
   "execution_count": null,
   "metadata": {},
   "outputs": [],
   "source": [
    "import numpy as np\n",
    "import matplotlib.pyplot as plt\n",
    "from pathlib import Path\n",
    "import plot_utils as u\n",
    "import scipy.signal as signal\n",
    "import re"
   ]
  },
  {
   "cell_type": "code",
   "execution_count": null,
   "metadata": {},
   "outputs": [],
   "source": [
    "result_dir = Path(\"beta_modulation/\")"
   ]
  },
  {
   "cell_type": "code",
   "execution_count": null,
   "metadata": {},
   "outputs": [],
   "source": [
    "num_sims = 0\n",
    "for d in result_dir.iterdir():\n",
    "    if (d / \"Cortical_Pop\").exists() and (d / \"Cortical_Pop\").is_dir():\n",
    "        num_sims += 1\n",
    "\n",
    "fig, axs = plt.subplots(num_sims, 4, figsize=(30, num_sims * 3))\n",
    "i = 0\n",
    "for d in result_dir.iterdir():\n",
    "    if (d / \"Cortical_Pop\").exists() and (d / \"Cortical_Pop\").is_dir():\n",
    "        sig = u.load_cortical_soma_voltage(d)\n",
    "        avgsig = np.mean(sig, axis=1)\n",
    "        axs[i][0].plot(avgsig)\n",
    "        f, spectrum = signal.welch(avgsig[15000:], fs=2000)\n",
    "        axs[i][1].plot(f[:50], spectrum[:50])\n",
    "        fxx, txx, sxx = signal.spectrogram(avgsig, fs=2000)\n",
    "        axs[i][2].pcolormesh(txx, fxx[:10], sxx[:10, :])\n",
    "        wavelet_freq = 25\n",
    "        wavelet_width = 5 * 2000 / (2 * wavelet_freq * np.pi)\n",
    "        sww = signal.cwt(avgsig, signal.morlet2, [wavelet_width])\n",
    "        axs[i][3].plot(np.abs(sww[0]))\n",
    "        i += 1"
   ]
  },
  {
   "cell_type": "code",
   "execution_count": null,
   "metadata": {},
   "outputs": [],
   "source": [
    "tt = np.loadtxt(\"../Cortex_BasalGanglia_DBS_model/burst_times_1.txt\", delimiter=\",\")\n",
    "aa = np.loadtxt(\"../Cortex_BasalGanglia_DBS_model/burst_level_1.txt\", delimiter=\",\")\n",
    "stt, modulation_signal = u.burst_txt_to_signal(tt, aa, 6000, 30000, 0.01)\n",
    "plt.figure(figsize=(20, 10))\n",
    "plt.plot(stt, modulation_signal)\n",
    "plt.scatter(tt, aa)"
   ]
  },
  {
   "cell_type": "code",
   "execution_count": null,
   "metadata": {},
   "outputs": [],
   "source": [
    "fontsize = 15\n",
    "fontsize_big = 22\n",
    "\n",
    "for d in result_dir.iterdir():\n",
    "    modulation_amplitude = 100\n",
    "    modulation_amplitude_text = \"???\"\n",
    "    if (d / \"Cortical_Pop\").exists() and (d / \"Cortical_Pop\").is_dir():\n",
    "        if len(list(d.glob(\"*.out\"))) == 1:\n",
    "            output_file = list(d.glob(\"*.out\"))[0]\n",
    "            with open(output_file, 'r') as f:\n",
    "                for line in f:\n",
    "                    m = re.match(\"'beta_burst_modulation_scale': ([\\.0-9]+),\", line)\n",
    "                    if m:\n",
    "                        modulation_amplitude_text = m.groups()[0]\n",
    "                        modulation_amplitude *= float(modulation_amplitude_text)\n",
    "        times = np.loadtxt(d / \"controller_sample_times.csv\")\n",
    "        beta = np.loadtxt(d / \"controller_beta_values.csv\")\n",
    "        sig = u.load_cortical_soma_voltage(d)\n",
    "        spikes = u.find_population_spikes(sig)\n",
    "        plt.figure(figsize=(28, 10))\n",
    "        skip = 3\n",
    "        for cell in spikes[::skip]:\n",
    "            x, y = list(zip(*cell))\n",
    "            x = [e / 2 for e in x]\n",
    "            y = [e / skip for e in y]\n",
    "            spikes = plt.scatter(x, y, s=5, c=\"#666666\")\n",
    "        ax = plt.gca()\n",
    "        modulation, = ax.plot(stt, modulation_amplitude * modulation_signal - 1)\n",
    "        controller_beta, = ax.plot(times * 1000, 8000 * beta - 7)\n",
    "        zero_beta = ax.axhline(-7, color='black')\n",
    "        avgsig = np.mean(sig, axis=1)\n",
    "        wavelet_freq = 25\n",
    "        wavelet_width = 5 * 2000 / (2 * wavelet_freq * np.pi)\n",
    "        sww = signal.cwt(avgsig, signal.morlet2, [wavelet_width])\n",
    "        wavelet_amplitude, = ax.plot(np.linspace(0, 30000, len(sww[0])), 0.08 * np.abs(sww[0]) - 12)\n",
    "        ax.set_title(f\"{d.name}, modulation amplitude={modulation_amplitude_text}\", fontsize=fontsize)\n",
    "        ax.set_xlabel('Time [ms]', fontsize=fontsize)\n",
    "        ax.spines['top'].set_visible(False)\n",
    "        ax.spines['right'].set_visible(False)\n",
    "        ax.set_yticks([])\n",
    "        ax.set_yticklabels([])\n",
    "        plt.setp(ax.get_xticklabels(), fontsize=fontsize)\n",
    "        ax.legend([spikes, modulation, controller_beta, zero_beta, wavelet_amplitude], ['CTX neuron spikes', 'Modulating current', 'Controller beta', 'Zero beta level', 'Morlet wavelet amplitude (avg CTX V)'], fontsize=fontsize, bbox_to_anchor=(0, 0.05), loc=\"lower left\")"
   ]
  },
  {
   "cell_type": "code",
   "execution_count": null,
   "metadata": {},
   "outputs": [],
   "source": [
    "for d in result_dir.iterdir():\n",
    "    times = np.loadtxt(d / \"controller_sample_times.csv\")\n",
    "    beta = np.loadtxt(d / \"controller_beta_values.csv\")\n",
    "    plt.figure(figsize=(20, 5))\n",
    "    plt.plot(times, beta)\n",
    "    plt.title(d.name)\n",
    "    print(f\"{d.name}: {np.mean(beta)}\")"
   ]
  },
  {
   "cell_type": "code",
   "execution_count": null,
   "metadata": {},
   "outputs": [],
   "source": [
    "psd_fig = plt.figure(figsize=(12, 10))\n",
    "psd_ax = plt.gca()\n",
    "for d in result_dir.iterdir():\n",
    "    times = np.loadtxt(d / \"controller_sample_times.csv\")\n",
    "    beta = np.loadtxt(d / \"controller_beta_values.csv\")\n",
    "    modulation_amplitude = 1\n",
    "    if len(list(d.glob(\"*.out\"))) == 1:\n",
    "            output_file = list(d.glob(\"*.out\"))[0]\n",
    "            with open(output_file, 'r') as f:\n",
    "                for line in f:\n",
    "                    m = re.match(\"'beta_burst_modulation_scale': ([\\.0-9]+),\", line)\n",
    "                    if m:\n",
    "                        modulation_amplitude_text = m.groups()[0]\n",
    "                        modulation_amplitude *= float(modulation_amplitude_text)\n",
    "    lfp_t, lfp = u.load_stn_lfp(d, 30000, 6000)\n",
    "    freqs, psd = signal.welch(np.transpose(lfp[\"signal\"])[0])\n",
    "    psd_ax.plot(freqs, psd)\n",
    "    plt.figure(figsize=(20, 5))\n",
    "    plt.plot(lfp_t, lfp[\"signal\"])\n",
    "    plt.plot(times * 1000, 10 * beta)\n",
    "    plt.plot(stt, modulation_amplitude * modulation_signal / 1000)\n",
    "    plt.title(d.name)\n",
    "psd_ax.set_xlim([0, 0.1])"
   ]
  }
 ],
 "metadata": {
  "kernelspec": {
   "display_name": "venv",
   "language": "python",
   "name": "python3"
  },
  "language_info": {
   "codemirror_mode": {
    "name": "ipython",
    "version": 3
   },
   "file_extension": ".py",
   "mimetype": "text/x-python",
   "name": "python",
   "nbconvert_exporter": "python",
   "pygments_lexer": "ipython3",
   "version": "3.9.5"
  },
  "vscode": {
   "interpreter": {
    "hash": "450f40dd396b1913861f0149d03f0192471eb9c72b00438423b03f564776f6b9"
   }
  }
 },
 "nbformat": 4,
 "nbformat_minor": 2
}
