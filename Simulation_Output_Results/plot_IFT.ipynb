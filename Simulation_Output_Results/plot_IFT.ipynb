{
 "cells": [
  {
   "cell_type": "code",
   "execution_count": null,
   "metadata": {},
   "outputs": [],
   "source": [
    "import matplotlib.pyplot as plt\n",
    "import plot_utils as u\n",
    "import csv\n",
    "from pathlib import Path\n",
    "import numpy as np"
   ]
  },
  {
   "cell_type": "code",
   "execution_count": null,
   "metadata": {},
   "outputs": [],
   "source": [
    "dirname = 'ift/ift-20230106230542-1'"
   ]
  },
  {
   "cell_type": "code",
   "execution_count": null,
   "metadata": {},
   "outputs": [],
   "source": [
    "fig, axs = plt.subplots(3, 1, figsize=(12, 10))\n",
    "u.plot_ift_signals(dirname, axs)"
   ]
  },
  {
   "cell_type": "code",
   "execution_count": null,
   "metadata": {},
   "outputs": [],
   "source": [
    "tt, _, _, _, _, parameters, _ = u.read_ift_results(dirname)\n",
    "u.plot_ift_trajectory('PI_grid_search_12', parameters, lam=1)"
   ]
  },
  {
   "cell_type": "code",
   "execution_count": null,
   "metadata": {},
   "outputs": [],
   "source": [
    "u.plot_two_trajectories('PI_grid_search_12',\n",
    "                        'ift/ift-20230109161353-8', 0,\n",
    "                        'ift/ift-20230109161353-7', 1,\n",
    "                        timestop1=60, timestop2=60)\n",
    "plt.savefig(Path('C:/cic/wrk/20221115_ner2023_paper/') / 'ift_working.eps', bbox_inches='tight')"
   ]
  }
 ],
 "metadata": {
  "kernelspec": {
   "display_name": "Python 3.9.5 ('venv': venv)",
   "language": "python",
   "name": "python3"
  },
  "language_info": {
   "codemirror_mode": {
    "name": "ipython",
    "version": 3
   },
   "file_extension": ".py",
   "mimetype": "text/x-python",
   "name": "python",
   "nbconvert_exporter": "python",
   "pygments_lexer": "ipython3",
   "version": "3.9.5"
  },
  "vscode": {
   "interpreter": {
    "hash": "450f40dd396b1913861f0149d03f0192471eb9c72b00438423b03f564776f6b9"
   }
  }
 },
 "nbformat": 4,
 "nbformat_minor": 2
}
